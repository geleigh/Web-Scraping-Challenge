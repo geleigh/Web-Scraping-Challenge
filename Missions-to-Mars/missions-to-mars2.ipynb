{
 "cells": [
  {
   "cell_type": "code",
   "execution_count": 1,
   "metadata": {},
   "outputs": [
    {
     "name": "stdout",
     "output_type": "stream",
     "text": [
      "Requirement already satisfied: splinter in /Users/georgialeigh/opt/anaconda3/lib/python3.7/site-packages (0.13.0)\n",
      "Requirement already satisfied: six in /Users/georgialeigh/opt/anaconda3/lib/python3.7/site-packages (from splinter) (1.12.0)\n",
      "Requirement already satisfied: selenium>=3.141.0 in /Users/georgialeigh/opt/anaconda3/lib/python3.7/site-packages (from splinter) (3.141.0)\n",
      "Requirement already satisfied: urllib3 in /Users/georgialeigh/opt/anaconda3/lib/python3.7/site-packages (from selenium>=3.141.0->splinter) (1.24.2)\n",
      "Note: you may need to restart the kernel to use updated packages.\n"
     ]
    }
   ],
   "source": [
    "pip install splinter"
   ]
  },
  {
   "cell_type": "code",
   "execution_count": 2,
   "metadata": {},
   "outputs": [],
   "source": [
    "from bs4 import BeautifulSoup\n",
    "import pandas as pd\n",
    "from splinter import Browser\n",
    "from pprint import pprint\n",
    "from datetime import datetime\n",
    "import requests\n"
   ]
  },
  {
   "cell_type": "code",
   "execution_count": 3,
   "metadata": {},
   "outputs": [],
   "source": [
    "# url\n",
    "url = 'https://mars.nasa.gov/news/'\n"
   ]
  },
  {
   "cell_type": "code",
   "execution_count": 4,
   "metadata": {},
   "outputs": [],
   "source": [
    "# Retrieve page with the requests module\n",
    "response = requests.get(url)\n"
   ]
  },
  {
   "cell_type": "code",
   "execution_count": 5,
   "metadata": {},
   "outputs": [],
   "source": [
    "# Create BeautifulSoup object; parse with 'lxml'\n",
    "soup = BeautifulSoup(response.text, 'lxml')"
   ]
  },
  {
   "cell_type": "code",
   "execution_count": 6,
   "metadata": {},
   "outputs": [],
   "source": [
    "# Executable Path/Initialize Browser\n",
    "executable_path = {\"executable_path\": \"/usr/local/bin/chromedriver\"}\n",
    "browser = Browser(\"chrome\", **executable_path, headless=False)\n"
   ]
  },
  {
   "cell_type": "code",
   "execution_count": 7,
   "metadata": {},
   "outputs": [
    {
     "name": "stdout",
     "output_type": "stream",
     "text": [
      "\n",
      "\n",
      "NASA's Perseverance Mars Rover Gets Its Wheels and Air Brakes\n",
      "\n",
      "\n",
      "\n",
      "After the rover was shipped from JPL to Kennedy Space Center, the team is getting closer to finalizing the spacecraft for launch later this summer.\n",
      "\n"
     ]
    }
   ],
   "source": [
    "# Scrape the Latest News Title\n",
    "news_title = soup.find(\"div\", class_=\"content_title\").get_text()\n",
    "print(news_title)\n",
    "\n",
    "# Scrape the Latest Paragraph Text\n",
    "news_p = soup.find(\"div\", class_=\"rollover_description_inner\").get_text()\n",
    "print(news_p)"
   ]
  },
  {
   "cell_type": "code",
   "execution_count": 14,
   "metadata": {},
   "outputs": [],
   "source": [
    "# JPL Mars Space Images - Featured Image\n",
    "\n",
    "executable_path = {\"executable_path\": \"/usr/local/bin/chromedriver\"}\n",
    "browser = Browser(\"chrome\", **executable_path, headless=False)\n",
    "url = \"https://www.jpl.nasa.gov/spaceimages/?search=&category=Mars\"\n",
    "browser.visit(url)"
   ]
  },
  {
   "cell_type": "code",
   "execution_count": 15,
   "metadata": {},
   "outputs": [],
   "source": [
    "## Use splinter to navigate the site and find the image url for the current Featured Mars Image and assign the url string to a variable called `featured_image_url`.\n",
    "# Ask Splinter to Go to Site and Click Button with Class Name full_image\n",
    "# <button class=\"full_image\">Full Image</button>\n",
    "full_image_button = browser.find_by_id(\"full_image\")\n",
    "full_image_button.click()"
   ]
  },
  {
   "cell_type": "code",
   "execution_count": null,
   "metadata": {},
   "outputs": [],
   "source": []
  }
 ],
 "metadata": {
  "kernelspec": {
   "display_name": "Python 3",
   "language": "python",
   "name": "python3"
  },
  "language_info": {
   "codemirror_mode": {
    "name": "ipython",
    "version": 3
   },
   "file_extension": ".py",
   "mimetype": "text/x-python",
   "name": "python",
   "nbconvert_exporter": "python",
   "pygments_lexer": "ipython3",
   "version": "3.7.4"
  }
 },
 "nbformat": 4,
 "nbformat_minor": 2
}
